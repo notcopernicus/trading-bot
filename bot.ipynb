{
 "cells": [
  {
   "cell_type": "code",
   "execution_count": 17,
   "id": "1d992c87",
   "metadata": {},
   "outputs": [],
   "source": [
    "import config\n",
    "from oandapyV20 import API"
   ]
  },
  {
   "cell_type": "markdown",
   "id": "8dc0475b",
   "metadata": {},
   "source": [
    "Priting the API key to ensure connection"
   ]
  },
  {
   "cell_type": "code",
   "execution_count": 21,
   "id": "a9128426",
   "metadata": {},
   "outputs": [
    {
     "data": {
      "text/plain": [
       "'e16a85c0e07530d514400d1e9f9a2619-f033a23d78a056ab11c5f9344665d463'"
      ]
     },
     "execution_count": 21,
     "metadata": {},
     "output_type": "execute_result"
    }
   ],
   "source": [
    "config.OANDA_API_KEY"
   ]
  }
 ],
 "metadata": {
  "kernelspec": {
   "display_name": "Python 3 (ipykernel)",
   "language": "python",
   "name": "python3"
  },
  "language_info": {
   "codemirror_mode": {
    "name": "ipython",
    "version": 3
   },
   "file_extension": ".py",
   "mimetype": "text/x-python",
   "name": "python",
   "nbconvert_exporter": "python",
   "pygments_lexer": "ipython3",
   "version": "3.13.3"
  }
 },
 "nbformat": 4,
 "nbformat_minor": 5
}
